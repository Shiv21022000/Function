{
  "nbformat": 4,
  "nbformat_minor": 0,
  "metadata": {
    "colab": {
      "provenance": []
    },
    "kernelspec": {
      "name": "python3",
      "display_name": "Python 3"
    },
    "language_info": {
      "name": "python"
    }
  },
  "cells": [
    {
      "cell_type": "markdown",
      "source": [],
      "metadata": {
        "id": "X-Y1S3iveGCq"
      }
    },
    {
      "cell_type": "markdown",
      "source": [
        "#Function Assignment"
      ],
      "metadata": {
        "id": "n1PBj2i8eHk9"
      }
    },
    {
      "cell_type": "markdown",
      "source": [
        "#Theory Question"
      ],
      "metadata": {
        "id": "Byse_BU6eLd1"
      }
    },
    {
      "cell_type": "markdown",
      "source": [
        "1. What is the difference between a function and a method in Python?"
      ],
      "metadata": {
        "id": "8RLZQ3Q5eOj_"
      }
    },
    {
      "cell_type": "code",
      "source": [
        "def my_function():\n",
        "    return \"I am a function\"\n",
        "\n",
        "class MyClass:\n",
        "    def my_method(self):\n",
        "        return \"I am a method\"\n",
        "\n",
        "# Example:\n",
        "print(my_function())         # Calls function\n",
        "obj = MyClass()\n",
        "print(obj.my_method())       # Calls method"
      ],
      "metadata": {
        "colab": {
          "base_uri": "https://localhost:8080/"
        },
        "id": "qgdbBHNqePCQ",
        "outputId": "2a725042-2831-4949-e0da-f3f375206ddb"
      },
      "execution_count": 1,
      "outputs": [
        {
          "output_type": "stream",
          "name": "stdout",
          "text": [
            "I am a function\n",
            "I am a method\n"
          ]
        }
      ]
    },
    {
      "cell_type": "markdown",
      "source": [
        "2. Explain the concept of function arguments and parameters in Python.\n"
      ],
      "metadata": {
        "id": "xL1IP3uaeWDg"
      }
    },
    {
      "cell_type": "markdown",
      "source": [
        "Parameters are the variables defined in the function signature, and arguments are the values passed to the function when it is called.\n"
      ],
      "metadata": {
        "id": "KnaMrdX2eb3q"
      }
    },
    {
      "cell_type": "code",
      "source": [
        "def greet(name):  # 'name' is a parameter\n",
        "    return f\"Hello, {name}!\"\n",
        "\n",
        "# Example:\n",
        "print(greet(\"Shiv\"))  # \"Shiv\" is an argument"
      ],
      "metadata": {
        "colab": {
          "base_uri": "https://localhost:8080/"
        },
        "id": "jP9a9i4recjm",
        "outputId": "9e9d4db8-01c6-4ea8-b687-40a254f762ac"
      },
      "execution_count": 3,
      "outputs": [
        {
          "output_type": "stream",
          "name": "stdout",
          "text": [
            "Hello, Shiv!\n"
          ]
        }
      ]
    },
    {
      "cell_type": "markdown",
      "source": [
        "3. What are the different ways to define and call a function in Python?"
      ],
      "metadata": {
        "id": "m3ygZZ4neiyN"
      }
    },
    {
      "cell_type": "markdown",
      "source": [],
      "metadata": {
        "id": "1PKWZ6xGeevV"
      }
    },
    {
      "cell_type": "markdown",
      "source": [
        "Functions are defined using the 'def' keyword and called using the function name followed by parentheses."
      ],
      "metadata": {
        "id": "bbhn6SALemPL"
      }
    },
    {
      "cell_type": "code",
      "source": [
        "def addition(a, b):\n",
        "    return a + b\n",
        "\n",
        "# Example of calling the function:\n",
        "result = addition(3, 5)  # Calling the function\n",
        "print(result)"
      ],
      "metadata": {
        "colab": {
          "base_uri": "https://localhost:8080/"
        },
        "id": "co0pi2VremlY",
        "outputId": "a867f830-e72c-447a-fd0c-eaa983ebb53e"
      },
      "execution_count": 4,
      "outputs": [
        {
          "output_type": "stream",
          "name": "stdout",
          "text": [
            "8\n"
          ]
        }
      ]
    },
    {
      "cell_type": "markdown",
      "source": [
        "4. What is the purpose of the return statement in a Python function?"
      ],
      "metadata": {
        "id": "aQRXDM6Eeo-Z"
      }
    },
    {
      "cell_type": "markdown",
      "source": [
        "The return statement is used to end a function and pass a value back to the caller.\n"
      ],
      "metadata": {
        "id": "hO6M1y90etQU"
      }
    },
    {
      "cell_type": "code",
      "source": [
        "def square(x):\n",
        "    return x * x\n",
        "\n",
        "# Example:\n",
        "print(square(4))  # Returns 16"
      ],
      "metadata": {
        "colab": {
          "base_uri": "https://localhost:8080/"
        },
        "id": "HIaYkbynetn-",
        "outputId": "fcec4ba0-ec11-49e5-e86b-b76b78a8c6ac"
      },
      "execution_count": 5,
      "outputs": [
        {
          "output_type": "stream",
          "name": "stdout",
          "text": [
            "16\n"
          ]
        }
      ]
    },
    {
      "cell_type": "markdown",
      "source": [
        "5. What are iterators in Python and how do they differ from iterables?"
      ],
      "metadata": {
        "id": "EJY3MEkcevtw"
      }
    },
    {
      "cell_type": "markdown",
      "source": [
        "Iterables are collections that can be iterated over. Iterators are objects that produce the next value from an iterable."
      ],
      "metadata": {
        "id": "gvP7vgAbe4aJ"
      }
    },
    {
      "cell_type": "code",
      "source": [
        "my_list = [1, 2, 3]\n",
        "iterator = iter(my_list)  # Creating an iterator\n",
        "\n",
        "# Example:\n",
        "print(next(iterator))\n",
        "print(next(iterator))"
      ],
      "metadata": {
        "colab": {
          "base_uri": "https://localhost:8080/"
        },
        "id": "zKnN5XCje4uW",
        "outputId": "ad7587d0-1e3e-47ed-8f67-cd5566eb6882"
      },
      "execution_count": 6,
      "outputs": [
        {
          "output_type": "stream",
          "name": "stdout",
          "text": [
            "1\n",
            "2\n"
          ]
        }
      ]
    },
    {
      "cell_type": "markdown",
      "source": [
        "6. Explain the concept of generators in Python and how they are defined.\n",
        "\n",
        "Generators are defined using functions but use 'yield' instead of 'return' to produce a series of values lazily."
      ],
      "metadata": {
        "id": "v0AIZJAee63W"
      }
    },
    {
      "cell_type": "code",
      "source": [
        "def counter():\n",
        "    for i in range(3):\n",
        "        yield i\n",
        "\n",
        "# Example:\n",
        "for number in counter():\n",
        "    print(number)"
      ],
      "metadata": {
        "colab": {
          "base_uri": "https://localhost:8080/"
        },
        "id": "2G1-L0Tte_lT",
        "outputId": "a23beb20-d670-46c1-e5fb-441a5d4721e4"
      },
      "execution_count": 7,
      "outputs": [
        {
          "output_type": "stream",
          "name": "stdout",
          "text": [
            "0\n",
            "1\n",
            "2\n"
          ]
        }
      ]
    },
    {
      "cell_type": "markdown",
      "source": [
        "7. What are the advantages of using generators over regular functions?"
      ],
      "metadata": {
        "id": "t2aD7AmxfEG4"
      }
    },
    {
      "cell_type": "markdown",
      "source": [
        "Generators offer lazy evaluation, memory efficiency, and improved performance for large data sets."
      ],
      "metadata": {
        "id": "bTYsaxtafIfe"
      }
    },
    {
      "cell_type": "code",
      "source": [
        "# Example (counter generator):\n",
        "def counter():\n",
        "    for i in range(3):\n",
        "        yield i\n",
        "\n",
        "for number in counter():\n",
        "    print(number)"
      ],
      "metadata": {
        "colab": {
          "base_uri": "https://localhost:8080/"
        },
        "id": "o4S7ti6vfI2x",
        "outputId": "03983975-f685-407d-b842-a1c6c57bfe96"
      },
      "execution_count": 8,
      "outputs": [
        {
          "output_type": "stream",
          "name": "stdout",
          "text": [
            "0\n",
            "1\n",
            "2\n"
          ]
        }
      ]
    },
    {
      "cell_type": "markdown",
      "source": [
        "8. What is a lambda function in Python and when is it typically used?"
      ],
      "metadata": {
        "id": "9bo2BLGdfK14"
      }
    },
    {
      "cell_type": "markdown",
      "source": [
        "A lambda function is an anonymous, single-expression function often used for short-term tasks."
      ],
      "metadata": {
        "id": "fi4r40rEfNZ8"
      }
    },
    {
      "cell_type": "code",
      "source": [
        "square_lambda = lambda x: x * x\n",
        "\n",
        "# Example:\n",
        "print(square_lambda(5))"
      ],
      "metadata": {
        "colab": {
          "base_uri": "https://localhost:8080/"
        },
        "id": "E8L26P3JfP67",
        "outputId": "70c4733b-6cf8-48c6-e505-726299a1049d"
      },
      "execution_count": 9,
      "outputs": [
        {
          "output_type": "stream",
          "name": "stdout",
          "text": [
            "25\n"
          ]
        }
      ]
    },
    {
      "cell_type": "markdown",
      "source": [
        "9.Explain the purpose and usage of the map() function in Python."
      ],
      "metadata": {
        "id": "ZrKwo-U-fWIc"
      }
    },
    {
      "cell_type": "markdown",
      "source": [
        "() is used to apply a function to every item in an iterable, returning a map object."
      ],
      "metadata": {
        "id": "BALeRYtLfaep"
      }
    },
    {
      "cell_type": "code",
      "source": [
        "numbers = [1, 2, 3]\n",
        "squared_numbers = map(lambda x: x ** 2, numbers)\n",
        "\n",
        "# Example:\n",
        "print(list(squared_numbers))"
      ],
      "metadata": {
        "colab": {
          "base_uri": "https://localhost:8080/"
        },
        "id": "xEaoFZ3Qfarp",
        "outputId": "dcb6142e-b158-4f73-b53c-1aa8ea65c58e"
      },
      "execution_count": 12,
      "outputs": [
        {
          "output_type": "stream",
          "name": "stdout",
          "text": [
            "[1, 4, 9]\n"
          ]
        }
      ]
    },
    {
      "cell_type": "markdown",
      "source": [
        "#10. What is the difference between map(), reduce(), and filter() functions in Python?"
      ],
      "metadata": {
        "id": "36mLbuHqfhYA"
      }
    },
    {
      "cell_type": "markdown",
      "source": [
        "map() applies a function to all items in an input list.\n",
        "reduce() applies a function cumulatively to items of an iterable, reducing it to a single value (requires import from functools).\n",
        "filter() filters items out of an iterable based on a condition."
      ],
      "metadata": {
        "id": "DjGZfwd1fkW6"
      }
    },
    {
      "cell_type": "code",
      "source": [
        "from functools import reduce\n",
        "\n",
        "# Example:\n",
        "print(list(map(lambda x: x * 2, [1, 2, 3])))\n",
        "print(reduce(lambda x, y: x + y, [1, 2, 3, 4]))\n",
        "print(list(filter(lambda x: x % 2 != 0, [1, 2, 3, 4])))"
      ],
      "metadata": {
        "colab": {
          "base_uri": "https://localhost:8080/"
        },
        "id": "bgPuw9dKfk75",
        "outputId": "4f8b0aba-48ff-45e5-9922-a3b42bef84b9"
      },
      "execution_count": 13,
      "outputs": [
        {
          "output_type": "stream",
          "name": "stdout",
          "text": [
            "[2, 4, 6]\n",
            "10\n",
            "[1, 3]\n"
          ]
        }
      ]
    },
    {
      "cell_type": "markdown",
      "source": [
        "#11. Using pen & paper, write the internal mechanism for the sum operation using the reduce function on this given list: [47, 11, 42, 13]."
      ],
      "metadata": {
        "id": "opPpTjXxfp2H"
      }
    },
    {
      "cell_type": "code",
      "source": [
        "# Example in Python using reduce:\n",
        "from functools import reduce\n",
        "\n",
        "numbers = [47, 11, 42, 13]\n",
        "result = reduce(lambda x, y: x + y, numbers)\n",
        "\n",
        "# Output the result\n",
        "print(\"The sum of the list [47, 11, 42, 13] using reduce is:\", result)"
      ],
      "metadata": {
        "colab": {
          "base_uri": "https://localhost:8080/"
        },
        "id": "z6hVdQTjf6k-",
        "outputId": "404b60b4-974a-46b8-dbac-198652a2ebf8"
      },
      "execution_count": 16,
      "outputs": [
        {
          "output_type": "stream",
          "name": "stdout",
          "text": [
            "The sum of the list [47, 11, 42, 13] using reduce is: 113\n"
          ]
        }
      ]
    },
    {
      "cell_type": "code",
      "source": [
        "#"
      ],
      "metadata": {
        "id": "1kvza0kOgAlf"
      },
      "execution_count": null,
      "outputs": []
    },
    {
      "cell_type": "markdown",
      "source": [
        "#Practical Question"
      ],
      "metadata": {
        "id": "__L8tgwPgCoe"
      }
    },
    {
      "cell_type": "markdown",
      "source": [
        "#1. Write a Python function that takes a list of numbers as input and returns the sum of all even numbers in the list."
      ],
      "metadata": {
        "id": "rOD3tVtigFRC"
      }
    },
    {
      "cell_type": "code",
      "source": [
        "def sum_of_evens(numbers):\n",
        "    return sum(num for num in numbers if num % 2 == 0)\n",
        "\n",
        "# Example usage:\n",
        "print(sum_of_evens([1, 2, 3, 4, 5, 6]))"
      ],
      "metadata": {
        "colab": {
          "base_uri": "https://localhost:8080/"
        },
        "id": "FvBeJA-ZgGHk",
        "outputId": "a5f13d74-b49d-4302-cbd3-682999c34871"
      },
      "execution_count": 17,
      "outputs": [
        {
          "output_type": "stream",
          "name": "stdout",
          "text": [
            "12\n"
          ]
        }
      ]
    },
    {
      "cell_type": "markdown",
      "source": [
        "#2. Create a Python function that accepts a string and returns the reverse of that string."
      ],
      "metadata": {
        "id": "zIDWGwyDggAO"
      }
    },
    {
      "cell_type": "markdown",
      "source": [],
      "metadata": {
        "id": "sndJzelSgdzu"
      }
    },
    {
      "cell_type": "code",
      "source": [
        "def reverse_string(s):\n",
        "    return s[::-1]\n",
        "\n",
        "# Example usage:\n",
        "print(reverse_string(\"hello\"))"
      ],
      "metadata": {
        "colab": {
          "base_uri": "https://localhost:8080/"
        },
        "id": "yOxquXoKgTJQ",
        "outputId": "36cfd53f-4938-4cd9-fa44-71cdc30c47e3"
      },
      "execution_count": 19,
      "outputs": [
        {
          "output_type": "stream",
          "name": "stdout",
          "text": [
            "olleh\n"
          ]
        }
      ]
    },
    {
      "cell_type": "markdown",
      "source": [],
      "metadata": {
        "id": "BQfP9A70gkTO"
      }
    },
    {
      "cell_type": "markdown",
      "source": [
        "#3. Implement a Python function that takes a list of integers and returns a new list containing the squares of each number."
      ],
      "metadata": {
        "id": "T25pgX6Sgm93"
      }
    },
    {
      "cell_type": "code",
      "source": [
        "def square_numbers(numbers):\n",
        "    return [num ** 2 for num in numbers]\n",
        "\n",
        "# Example usage:\n",
        "print(square_numbers([1, 2, 3, 4]))"
      ],
      "metadata": {
        "colab": {
          "base_uri": "https://localhost:8080/"
        },
        "id": "0rJNdhgkgobR",
        "outputId": "0612a21e-7f2d-484f-be5f-80590fc0482e"
      },
      "execution_count": 21,
      "outputs": [
        {
          "output_type": "stream",
          "name": "stdout",
          "text": [
            "[1, 4, 9, 16]\n"
          ]
        }
      ]
    },
    {
      "cell_type": "markdown",
      "source": [
        "#4. Write a Python function that checks if a given number is prime or not from 1 to 200"
      ],
      "metadata": {
        "id": "Fca9kkeKgqO5"
      }
    },
    {
      "cell_type": "code",
      "source": [
        "def is_prime(n):\n",
        "    if n <= 1:\n",
        "        return False\n",
        "    for i in range(2, int(n ** 0.5) + 1):\n",
        "        if n % i == 0:\n",
        "            return False\n",
        "    return True\n",
        "\n",
        "# Example usage for numbers 1 to 200:\n",
        "primes = [n for n in range(1, 201) if is_prime(n)]\n",
        "print(primes)\n",
        ""
      ],
      "metadata": {
        "colab": {
          "base_uri": "https://localhost:8080/"
        },
        "id": "Sjn5PVrMgsdw",
        "outputId": "18e6192a-7450-462b-ff13-867d134dcb7e"
      },
      "execution_count": 22,
      "outputs": [
        {
          "output_type": "stream",
          "name": "stdout",
          "text": [
            "[2, 3, 5, 7, 11, 13, 17, 19, 23, 29, 31, 37, 41, 43, 47, 53, 59, 61, 67, 71, 73, 79, 83, 89, 97, 101, 103, 107, 109, 113, 127, 131, 137, 139, 149, 151, 157, 163, 167, 173, 179, 181, 191, 193, 197, 199]\n"
          ]
        }
      ]
    },
    {
      "cell_type": "markdown",
      "source": [
        "#5. Create an iterator class in Python that generates the Fibonacci sequence up to a specified number of terms."
      ],
      "metadata": {
        "id": "o3reOYOugujc"
      }
    },
    {
      "cell_type": "code",
      "source": [
        "class Fibonacci:\n",
        "    def __init__(self, n_terms):\n",
        "        self.n_terms = n_terms\n",
        "        self.index = 0\n",
        "        self.a, self.b = 0, 1\n",
        "\n",
        "    def __iter__(self):\n",
        "        return self\n",
        "\n",
        "    def __next__(self):\n",
        "        if self.index >= self.n_terms:\n",
        "            raise StopIteration\n",
        "        if self.index == 0:\n",
        "            self.index += 1\n",
        "            return self.a\n",
        "        else:\n",
        "            self.a, self.b = self.b, self.a + self.b\n",
        "            self.index += 1\n",
        "            return self.a\n",
        "\n",
        "# Example usage:\n",
        "fib = Fibonacci(10)\n",
        "print(list(fib))  # Output: First 10 Fibonacci numbers"
      ],
      "metadata": {
        "colab": {
          "base_uri": "https://localhost:8080/"
        },
        "id": "I9aG2kFrgxZM",
        "outputId": "a624a698-a0df-4678-af2f-c149de7532bd"
      },
      "execution_count": 23,
      "outputs": [
        {
          "output_type": "stream",
          "name": "stdout",
          "text": [
            "[0, 1, 1, 2, 3, 5, 8, 13, 21, 34]\n"
          ]
        }
      ]
    },
    {
      "cell_type": "markdown",
      "source": [
        "#6. Write a generator function in Python that yields the powers of 2 up to a given exponent."
      ],
      "metadata": {
        "id": "8A3aOPIJg0da"
      }
    },
    {
      "cell_type": "code",
      "source": [
        "def powers_of_2(exponent):\n",
        "    for i in range(exponent + 1):\n",
        "        yield 2 ** i\n",
        "\n",
        "# Example usage:\n",
        "for power in powers_of_2(5):\n",
        "    print(power)\n",
        ""
      ],
      "metadata": {
        "colab": {
          "base_uri": "https://localhost:8080/"
        },
        "id": "JLX3AhtQg2ka",
        "outputId": "e71a8d7f-4331-44ba-9435-2bb5f56efc02"
      },
      "execution_count": 24,
      "outputs": [
        {
          "output_type": "stream",
          "name": "stdout",
          "text": [
            "1\n",
            "2\n",
            "4\n",
            "8\n",
            "16\n",
            "32\n"
          ]
        }
      ]
    },
    {
      "cell_type": "markdown",
      "source": [
        "#7. Implement a generator function that reads a file line by line and yields each line as a string."
      ],
      "metadata": {
        "id": "lmfvNmpXg6pU"
      }
    },
    {
      "cell_type": "markdown",
      "source": [
        "def line_reader(file_path):\n",
        "    with open(file_path, 'r') as file:\n",
        "        for line in file:\n",
        "            yield line.strip()\n",
        "\n",
        "# Example usage:\n",
        "file_path = 'example.txt'  # Replace with your file path\n",
        "for line in line_reader(file_path):\n",
        "    print(line)"
      ],
      "metadata": {
        "id": "_uWhvAcFiWbZ"
      }
    },
    {
      "cell_type": "markdown",
      "source": [],
      "metadata": {
        "id": "lzGQvEwUiad6"
      }
    },
    {
      "cell_type": "markdown",
      "source": [
        "#8. Use a lambda function in Python to sort a list of tuples based on the second element of each tuple"
      ],
      "metadata": {
        "id": "y5HetgpUibsV"
      }
    },
    {
      "cell_type": "code",
      "source": [
        "tuples_list = [(1, 3), (3, 2), (5, 1)]\n",
        "sorted_list = sorted(tuples_list, key=lambda x: x[1])\n",
        "print(sorted_list)\n",
        ""
      ],
      "metadata": {
        "colab": {
          "base_uri": "https://localhost:8080/"
        },
        "id": "joxGmvmJieta",
        "outputId": "30e0f021-4195-4fcb-ea91-5c73d3861944"
      },
      "execution_count": 31,
      "outputs": [
        {
          "output_type": "stream",
          "name": "stdout",
          "text": [
            "[(5, 1), (3, 2), (1, 3)]\n"
          ]
        }
      ]
    },
    {
      "cell_type": "markdown",
      "source": [
        "#9. Write a Python program that uses map() to convert a list of temperatures from Celsius to Fahrenheit."
      ],
      "metadata": {
        "id": "KCPNhr5EigtH"
      }
    },
    {
      "cell_type": "code",
      "source": [
        "\n",
        "def celsius_to_fahrenheit(celsius):\n",
        "    return (celsius * 9/5) + 32\n",
        "\n",
        "celsius_list = [0, 20, 37, 100]\n",
        "fahrenheit_list = list(map(celsius_to_fahrenheit, celsius_list))\n",
        "print(fahrenheit_list)"
      ],
      "metadata": {
        "colab": {
          "base_uri": "https://localhost:8080/"
        },
        "id": "h-AWfPvYii1e",
        "outputId": "5938cd83-2c69-4538-eb4a-4767514eac31"
      },
      "execution_count": 32,
      "outputs": [
        {
          "output_type": "stream",
          "name": "stdout",
          "text": [
            "[32.0, 68.0, 98.6, 212.0]\n"
          ]
        }
      ]
    },
    {
      "cell_type": "markdown",
      "source": [
        "#10. Create a Python program that uses filter() to remove all the vowels from a given string."
      ],
      "metadata": {
        "id": "dsKynxyiik2D"
      }
    },
    {
      "cell_type": "code",
      "source": [
        "def remove_vowels(s):\n",
        "    vowels = 'aeiouAEIOU'\n",
        "    return ''.join(filter(lambda x: x not in vowels, s))\n",
        "\n",
        "# Example usage:\n",
        "print(remove_vowels(\"This is a test.\"))"
      ],
      "metadata": {
        "colab": {
          "base_uri": "https://localhost:8080/"
        },
        "id": "-gTcvqCMinDE",
        "outputId": "280b695b-216f-4e96-b47c-f248c37f1bc7"
      },
      "execution_count": 33,
      "outputs": [
        {
          "output_type": "stream",
          "name": "stdout",
          "text": [
            "Ths s  tst.\n"
          ]
        }
      ]
    },
    {
      "cell_type": "markdown",
      "source": [
        "#11. from IPython.display import Image, display\n",
        "display(Image('/content/Quest11P.png', width=500))\n",
        "#Imagine an accounting routine used in a book shop. It works on a list with sublists, which look like this: (provided image).\n",
        "     \n",
        "     "
      ],
      "metadata": {
        "id": "Kmw2xVPuipiP"
      }
    },
    {
      "cell_type": "markdown",
      "source": [
        "Imagine an accounting routine used in a book shop. It works on a list with sublists, which look like this: (provided image). Write a Python program, which returns a list with 2-tuples. Each tuple consists of the order number and the product of the price per item and the quantity. The product should be increased by 10,- € if the value of the order is smaller than 100,00 €. Write a Python program using lambda and map."
      ],
      "metadata": {
        "id": "gXO3EE4Ji9vm"
      }
    },
    {
      "cell_type": "code",
      "source": [
        "orders = [\n",
        "    [34587, \"Learning Python, Mark Lutz\", 4, 40.95],\n",
        "    [98762, \"Programming Python, Mark Lutz\", 5, 56.80],\n",
        "    [77226, \"Head First Python, Paul Barry\", 3, 32.95],\n",
        "    [88112, \"Einführung in Python3, Bernd Klein\", 3, 24.99]\n",
        "]\n",
        "\n",
        "order_costs = map(lambda order: (order[0], order[2] * order[3] + (10 if order[2] * order[3] < 10000 else 0)), orders)\n",
        "\n",
        "# Convert to list to view the results\n",
        "order_costs_list = list(order_costs)\n",
        "print(order_costs_list)"
      ],
      "metadata": {
        "colab": {
          "base_uri": "https://localhost:8080/"
        },
        "id": "VRZIy1TXi95T",
        "outputId": "8ebbb13a-4ba5-46a2-b7d0-038aa6444e08"
      },
      "execution_count": 35,
      "outputs": [
        {
          "output_type": "stream",
          "name": "stdout",
          "text": [
            "[(34587, 173.8), (98762, 294.0), (77226, 108.85000000000001), (88112, 84.97)]\n"
          ]
        }
      ]
    }
  ]
}